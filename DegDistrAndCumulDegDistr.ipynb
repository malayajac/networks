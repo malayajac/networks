{
 "cells": [
  {
   "cell_type": "markdown",
   "metadata": {},
   "source": [
    "Cumulative degree distribution shows the probability that the degree of a node picked at random is larger than $n$."
   ]
  },
  {
   "cell_type": "markdown",
   "metadata": {},
   "source": [
    "Cumulative deg distr: $C_{k} = \\sum_{k'=k}^{\\infty} p_{k'}$"
   ]
  },
  {
   "cell_type": "code",
   "execution_count": null,
   "metadata": {},
   "outputs": [],
   "source": [
    "import numpy as np\n",
    "import networkx as nx\n",
    "import matplotlib.pyplot as plt\n",
    "import pandas as pd\n",
    "import collections"
   ]
  },
  {
   "cell_type": "code",
   "execution_count": null,
   "metadata": {},
   "outputs": [],
   "source": [
    "def MakeDegDistr(G, N):\n",
    "    deg_seq = [deg for node, deg in G.degree()] #degree sequence\n",
    "    deg_count = collections.Counter(deg_seq) #degree and corresponding count\n",
    "    \n",
    "    count_dict = {}\n",
    "    k_max = max(deg_seq)\n",
    "    for k in range(0, k_max+1):\n",
    "        count_dict[k] = 0 #initialize all to zero\n",
    "    \n",
    "    for k, cnt in deg_count.items():\n",
    "        count_dict[k] = cnt\n",
    "    \n",
    "    k_list = list(count_dict.keys()) #list of degrees\n",
    "    cnt_list = list(count_dict.values()) #list of counts\n",
    "    \n",
    "    cumul_cnt_list = np.zeros_like(cnt_list)\n",
    "    for k in k_list:\n",
    "        cumul_cnt_list[k] = sum(cnt_list[k:])\n",
    "    \n",
    "    pk_list = np.array(cnt_list)/N #list of degree distr\n",
    "    ck_list = cumul_cnt_list/N\n",
    "    \n",
    "    pk_dict = {'k': k_list, 'cnt': cnt_list, 'pk': pk_list,\n",
    "               'cumul_cnt': cumul_cnt_list, \"ck\": ck_list}\n",
    "    pk_df = pd.DataFrame(data=pk_dict,\n",
    "                         columns=['k', 'cnt', 'pk', 'cumul_cnt', 'ck'])\n",
    "    \n",
    "    return (pk_df)"
   ]
  },
  {
   "cell_type": "code",
   "execution_count": null,
   "metadata": {},
   "outputs": [],
   "source": [
    "%%time\n",
    "\n",
    "G1 = nx.watts_strogatz_graph(2000, 4, 0.2)\n",
    "N1 = G1.number_of_nodes()\n",
    "\n",
    "pk_df_1 = MakeDegDistr(G1, N1)\n",
    "#----------------------------------------\n",
    "# Degree distribution plot using log scales.\n",
    "fig = plt.figure()\n",
    "ax = fig.add_axes([0, 0, 1, 1])\n",
    "\n",
    "ax.plot(pk_df_1[\"k\"], pk_df_1[\"pk\"], \"x\", label=\"pk\")\n",
    "ax.plot(pk_df_1[\"k\"], pk_df_1[\"ck\"], \"+\", label=\"ck\")\n",
    "\n",
    "# ax.set_xscale('log')\n",
    "# ax.set_yscale('log')\n",
    "\n",
    "ax.set_ylim(top=1.1)\n",
    "\n",
    "ax.set_xlabel(\"k\", fontsize=20)\n",
    "ax.set_ylabel(\"p(k), c(k)\", fontsize=20)\n",
    "# ax.set_title(\"Degree Distribution (using log scales)\", fontsize=20)\n",
    "\n",
    "plt.legend()\n",
    "plt.show()"
   ]
  },
  {
   "cell_type": "code",
   "execution_count": null,
   "metadata": {},
   "outputs": [],
   "source": [
    "%%time\n",
    "\n",
    "G2 = nx.barabasi_albert_graph(2000, 4)\n",
    "N2 = G2.number_of_nodes()\n",
    "\n",
    "pk_df_2 = MakeDegDistr(G2, N2)\n",
    "#----------------------------------------\n",
    "# Degree distribution plot using log scales.\n",
    "fig = plt.figure()\n",
    "ax = fig.add_axes([0, 0, 1, 1])\n",
    "\n",
    "ax.plot(pk_df_2[\"k\"], pk_df_2[\"pk\"], \"x\", label=\"pk\")\n",
    "ax.plot(pk_df_2[\"k\"], pk_df_2[\"ck\"], \"+\", label=\"ck\")\n",
    "\n",
    "ax.set_xscale('log')\n",
    "ax.set_yscale('log')\n",
    "\n",
    "ax.set_ylim(top=1.1)\n",
    "\n",
    "ax.set_xlabel(\"k\", fontsize=20)\n",
    "ax.set_ylabel(\"p(k), c(k)\", fontsize=20)\n",
    "# ax.set_title(\"Degree Distribution (using log scales)\", fontsize=20)\n",
    "\n",
    "plt.legend()\n",
    "plt.show()"
   ]
  },
  {
   "cell_type": "code",
   "execution_count": null,
   "metadata": {},
   "outputs": [],
   "source": []
  }
 ],
 "metadata": {
  "kernelspec": {
   "display_name": "Python 3",
   "language": "python",
   "name": "python3"
  },
  "language_info": {
   "codemirror_mode": {
    "name": "ipython",
    "version": 3
   },
   "file_extension": ".py",
   "mimetype": "text/x-python",
   "name": "python",
   "nbconvert_exporter": "python",
   "pygments_lexer": "ipython3",
   "version": "3.6.8"
  }
 },
 "nbformat": 4,
 "nbformat_minor": 2
}
