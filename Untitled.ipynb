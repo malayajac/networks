{
 "cells": [
  {
   "cell_type": "code",
   "execution_count": 1,
   "metadata": {},
   "outputs": [],
   "source": [
    "import networkx as nx\n",
    "import matplotlib.pyplot as plt\n",
    "import pandas as pd\n",
    "import numpy as np\n",
    "import collections"
   ]
  },
  {
   "cell_type": "code",
   "execution_count": 4,
   "metadata": {},
   "outputs": [],
   "source": [
    "Edge_FileName = \"tester.edgelist\"\n",
    "G = nx.read_edgelist(Edge_FileName, comments=\"#\")"
   ]
  },
  {
   "cell_type": "code",
   "execution_count": 5,
   "metadata": {},
   "outputs": [
    {
     "data": {
      "image/png": "[encoded data removed]",
      "text/plain": [
       "<Figure size 432x288 with 1 Axes>"
      ]
     },
     "metadata": {},
     "output_type": "display_data"
    }
   ],
   "source": [
    "nx.draw_networkx(G, with_labels=True)"
   ]
  },
  {
   "cell_type": "code",
   "execution_count": 6,
   "metadata": {},
   "outputs": [
    {
     "data": {
      "text/plain": [
       "NodeView(('0', '1', '2', '3', '4', '5', '6'))"
      ]
     },
     "execution_count": 6,
     "metadata": {},
     "output_type": "execute_result"
    }
   ],
   "source": [
    "G.nodes()"
   ]
  },
  {
   "cell_type": "code",
   "execution_count": 8,
   "metadata": {},
   "outputs": [],
   "source": [
    "G.add_node(7)"
   ]
  },
  {
   "cell_type": "code",
   "execution_count": 9,
   "metadata": {},
   "outputs": [
    {
     "data": {
      "image/png": "[encoded data removed]",
      "text/plain": [
       "<Figure size 432x288 with 1 Axes>"
      ]
     },
     "metadata": {},
     "output_type": "display_data"
    }
   ],
   "source": [
    "nx.draw_networkx(G, with_labels=True)"
   ]
  },
  {
   "cell_type": "code",
   "execution_count": 12,
   "metadata": {},
   "outputs": [],
   "source": [
    "nx.write_adjlist(G, \"tester_2.adjlist\")"
   ]
  },
  {
   "cell_type": "code",
   "execution_count": 14,
   "metadata": {},
   "outputs": [
    {
     "name": "stdout",
     "output_type": "stream",
     "text": [
      "7\n"
     ]
    }
   ],
   "source": [
    "for _ in nx.isolates(G):\n",
    "    print (_)"
   ]
  },
  {
   "cell_type": "code",
   "execution_count": null,
   "metadata": {},
   "outputs": [],
   "source": []
  },
  {
   "cell_type": "code",
   "execution_count": null,
   "metadata": {},
   "outputs": [],
   "source": []
  },
  {
   "cell_type": "code",
   "execution_count": null,
   "metadata": {},
   "outputs": [],
   "source": [
    "def CalculateDistr(KiskaDistr):\n",
    "    NumCount = collections.Counter(KiskaDistr) #Value and corresponding count.\n",
    "    count_dict = {} #This will contain all values and their corresponding counts, including all missing values.\n",
    "    \n",
    "    k_max = max(KiskaDistr)\n",
    "    \n",
    "    for k in range(0, k_max+1): count_dict[k] = 0 #initialize all to zero\n",
    "\n",
    "    for k, cnt in NumCount.items(): count_dict[k] = cnt\n",
    "    \n",
    "    k_list = list(count_dict.keys()) #list of degrees\n",
    "    cnt_list = list(count_dict.values()) #list of counts\n",
    "    pk_list = np.array(cnt_list)/sum(count_dict.values()) #normalized count\n",
    "    \n",
    "    #Cumulative counts:\n",
    "    cumul_cnt_list = np.zeros_like(cnt_list)\n",
    "    for k in k_list: cumul_cnt_list[k] = sum(cnt_list[k:])\n",
    "\n",
    "    ck_list = cumul_cnt_list/sum(count_dict.values()) #normalized cumulative count\n",
    "\n",
    "    pk_dict = {'k': k_list, 'cnt': cnt_list, 'pk': pk_list, 'cumul_cnt': cumul_cnt_list, \"ck\": ck_list}\n",
    "    pk_df = pd.DataFrame(data=pk_dict, columns=['k', 'cnt', 'pk', 'cumul_cnt', 'ck'])\n",
    "    \n",
    "    return (pk_df)"
   ]
  },
  {
   "cell_type": "code",
   "execution_count": null,
   "metadata": {},
   "outputs": [],
   "source": [
    "N = 100\n",
    "p = 0.05"
   ]
  },
  {
   "cell_type": "code",
   "execution_count": null,
   "metadata": {},
   "outputs": [],
   "source": [
    "G = nx.erdos_renyi_graph(N, p)"
   ]
  },
  {
   "cell_type": "code",
   "execution_count": null,
   "metadata": {},
   "outputs": [],
   "source": [
    "SeqOfNums = [deg for node, deg in G.degree()]"
   ]
  },
  {
   "cell_type": "code",
   "execution_count": null,
   "metadata": {},
   "outputs": [],
   "source": [
    "for _ in nx.isolates(G):\n",
    "    print (_)"
   ]
  },
  {
   "cell_type": "code",
   "execution_count": null,
   "metadata": {},
   "outputs": [],
   "source": [
    "nx.degree(G)"
   ]
  },
  {
   "cell_type": "code",
   "execution_count": null,
   "metadata": {},
   "outputs": [],
   "source": []
  }
 ],
 "metadata": {
  "kernelspec": {
   "display_name": "Python 3",
   "language": "python",
   "name": "python3"
  },
  "language_info": {
   "codemirror_mode": {
    "name": "ipython",
    "version": 3
   },
   "file_extension": ".py",
   "mimetype": "text/x-python",
   "name": "python",
   "nbconvert_exporter": "python",
   "pygments_lexer": "ipython3",
   "version": "3.6.8"
  }
 },
 "nbformat": 4,
 "nbformat_minor": 2
}
