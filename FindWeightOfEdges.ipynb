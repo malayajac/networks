{
 "cells": [
  {
   "cell_type": "code",
   "execution_count": 1,
   "metadata": {},
   "outputs": [],
   "source": [
    "import networkx as nx\n",
    "import matplotlib.pyplot as plt"
   ]
  },
  {
   "cell_type": "code",
   "execution_count": 2,
   "metadata": {},
   "outputs": [],
   "source": [
    "# Read input edge list file as an undirected network:\n",
    "G = nx.read_weighted_edgelist(\"AnotherToyNetwork.edgelist\", nodetype=str, create_using=nx.Graph)"
   ]
  },
  {
   "cell_type": "markdown",
   "metadata": {},
   "source": [
    "Contents of \"AnotherToyNetwork.edgelist\":\n",
    "```\n",
    "0 1 1\n",
    "0 3 1\n",
    "1 2 1\n",
    "2 3 2\n",
    "2 4 1\n",
    "2 5 2\n",
    "4 5 2\n",
    "5 6 1\n",
    "6 7 1\n",
    "6 8 2\n",
    "6 9 1\n",
    "```"
   ]
  },
  {
   "cell_type": "markdown",
   "metadata": {},
   "source": [
    "Ok, I know that the weights are either \"1\" or \"2\". So, I can go ahead and do the following. Otherwise, I will have to make a list of all weights, and make an ```EdgeList``` for each weight."
   ]
  },
  {
   "cell_type": "code",
   "execution_count": 3,
   "metadata": {},
   "outputs": [],
   "source": [
    "EdgeList_1 = [] #Will contain edges of weight1.\n",
    "EdgeList_2 = [] #Will contain edges of weight2.\n",
    "for edge in nx.generate_edgelist(G, delimiter=\",\", data=[\"weight\"]):\n",
    "    u, v, wt_str = edge.split(\",\")\n",
    "    wt = float(wt_str)\n",
    "    if wt==1.0:\n",
    "        EdgeList_1.append((u, v))\n",
    "    elif wt==2.0:\n",
    "        EdgeList_2.append((u, v))"
   ]
  },
  {
   "cell_type": "code",
   "execution_count": 4,
   "metadata": {},
   "outputs": [
    {
     "data": {
      "image/png": "[encoded data removed]",
      "text/plain": [
       "<Figure size 432x288 with 1 Axes>"
      ]
     },
     "metadata": {},
     "output_type": "display_data"
    }
   ],
   "source": [
    "pos = nx.spring_layout(G)  # positions for all nodes.\n",
    "nx.draw_networkx(G, pos)\n",
    "nx.draw_networkx_edges(G, pos, edgelist=EdgeList_2, width=6, edge_color=\"r\")\n",
    "plt.show()"
   ]
  },
  {
   "cell_type": "code",
   "execution_count": null,
   "metadata": {},
   "outputs": [],
   "source": []
  }
 ],
 "metadata": {
  "kernelspec": {
   "display_name": "Python 3",
   "language": "python",
   "name": "python3"
  },
  "language_info": {
   "codemirror_mode": {
    "name": "ipython",
    "version": 3
   },
   "file_extension": ".py",
   "mimetype": "text/x-python",
   "name": "python",
   "nbconvert_exporter": "python",
   "pygments_lexer": "ipython3",
   "version": "3.6.8"
  }
 },
 "nbformat": 4,
 "nbformat_minor": 2
}
