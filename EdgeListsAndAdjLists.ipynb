{
 "cells": [
  {
   "cell_type": "markdown",
   "metadata": {},
   "source": [
    "2019-May-26, Sunday"
   ]
  },
  {
   "cell_type": "markdown",
   "metadata": {},
   "source": [
    "I've bene dealing with connected graphs for so long, I forgot edgelists will eat up information about isolated nodes. Damn!"
   ]
  },
  {
   "cell_type": "code",
   "execution_count": 1,
   "metadata": {},
   "outputs": [],
   "source": [
    "import networkx as nx\n",
    "import matplotlib.pyplot as plt\n",
    "import sys"
   ]
  },
  {
   "cell_type": "code",
   "execution_count": 2,
   "metadata": {},
   "outputs": [],
   "source": [
    "EdgeList = [(0, 1), (0, 2), (0, 3),\n",
    "            (1, 2),\n",
    "            (2, 3),\n",
    "            (3, 4), (3, 5),\n",
    "            (4, 5),\n",
    "            (5, 6)]"
   ]
  },
  {
   "cell_type": "code",
   "execution_count": 3,
   "metadata": {},
   "outputs": [],
   "source": [
    "G = nx.Graph()"
   ]
  },
  {
   "cell_type": "code",
   "execution_count": 4,
   "metadata": {},
   "outputs": [],
   "source": [
    "G.add_edges_from(EdgeList)\n",
    "G.add_node(7)"
   ]
  },
  {
   "cell_type": "code",
   "execution_count": 5,
   "metadata": {},
   "outputs": [
    {
     "data": {
      "image/png": "[encoded data removed]",
      "text/plain": [
       "<Figure size 432x288 with 1 Axes>"
      ]
     },
     "metadata": {},
     "output_type": "display_data"
    }
   ],
   "source": [
    "nx.draw_networkx(G, with_labels=True)"
   ]
  },
  {
   "cell_type": "code",
   "execution_count": 6,
   "metadata": {},
   "outputs": [
    {
     "name": "stdout",
     "output_type": "stream",
     "text": [
      "#/Users/mc2/anaconda3/lib/python3.6/site-packages/ipykernel_launcher.py -f /Users/mc2/Library/Jupyter/runtime/kernel-8a06857d-5c81-4ba1-8b3f-9ea0456a58f9.json\n",
      "# GMT Sun May 26 17:35:15 2019\n",
      "# \n",
      "0 1 2 3\n",
      "1 2\n",
      "2 3\n",
      "3 4 5\n",
      "4 5\n",
      "5 6\n",
      "6\n",
      "7\n"
     ]
    }
   ],
   "source": [
    "nx.write_adjlist(G, sys.stdout)"
   ]
  },
  {
   "cell_type": "code",
   "execution_count": 7,
   "metadata": {},
   "outputs": [
    {
     "name": "stdout",
     "output_type": "stream",
     "text": [
      "0 1 {}\n",
      "0 2 {}\n",
      "0 3 {}\n",
      "1 2 {}\n",
      "2 3 {}\n",
      "3 4 {}\n",
      "3 5 {}\n",
      "4 5 {}\n",
      "5 6 {}\n"
     ]
    }
   ],
   "source": [
    "nx.write_edgelist(G, sys.stdout)"
   ]
  },
  {
   "cell_type": "markdown",
   "metadata": {},
   "source": [
    "I read somewhere that for the edgelist to show node 7, I will have to add a self-loop to it.<br>\n",
    "Gah, no. I'm switching to adjlists now."
   ]
  },
  {
   "cell_type": "code",
   "execution_count": null,
   "metadata": {},
   "outputs": [],
   "source": []
  }
 ],
 "metadata": {
  "kernelspec": {
   "display_name": "Python 3",
   "language": "python",
   "name": "python3"
  },
  "language_info": {
   "codemirror_mode": {
    "name": "ipython",
    "version": 3
   },
   "file_extension": ".py",
   "mimetype": "text/x-python",
   "name": "python",
   "nbconvert_exporter": "python",
   "pygments_lexer": "ipython3",
   "version": "3.6.8"
  }
 },
 "nbformat": 4,
 "nbformat_minor": 2
}
