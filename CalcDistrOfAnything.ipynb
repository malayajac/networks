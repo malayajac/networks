{
 "cells": [
  {
   "cell_type": "markdown",
   "metadata": {},
   "source": [
    "2019-May-26, Sunday"
   ]
  },
  {
   "cell_type": "markdown",
   "metadata": {},
   "source": [
    "Calculates distribution of any given sequence of numbers."
   ]
  },
  {
   "cell_type": "code",
   "execution_count": 1,
   "metadata": {},
   "outputs": [],
   "source": [
    "import networkx as nx\n",
    "import numpy as np\n",
    "import pandas as pd\n",
    "import matplotlib.pyplot as plt\n",
    "import collections"
   ]
  },
  {
   "cell_type": "code",
   "execution_count": 2,
   "metadata": {},
   "outputs": [],
   "source": [
    "def CalculateDistr(KiskaDistr):\n",
    "    NumCount = collections.Counter(KiskaDistr) #Value and corresponding count.\n",
    "    count_dict = {} #This will contain all values and their corresponding counts, including all missing values.\n",
    "    \n",
    "    k_max = max(KiskaDistr)\n",
    "    \n",
    "    for k in range(0, k_max+1): count_dict[k] = 0 #initialize all to zero\n",
    "\n",
    "    for k, cnt in NumCount.items(): count_dict[k] = cnt\n",
    "    \n",
    "    k_list = list(count_dict.keys()) #list of degrees\n",
    "    cnt_list = list(count_dict.values()) #list of counts\n",
    "    pk_list = np.array(cnt_list)/sum(count_dict.values()) #normalized count\n",
    "    \n",
    "    #Cumulative counts:\n",
    "    cumul_cnt_list = np.zeros_like(cnt_list)\n",
    "    for k in k_list: cumul_cnt_list[k] = sum(cnt_list[k:])\n",
    "\n",
    "    ck_list = cumul_cnt_list/sum(count_dict.values()) #normalized cumulative count\n",
    "\n",
    "    pk_dict = {'k': k_list, 'cnt': cnt_list, 'pk': pk_list, 'cumul_cnt': cumul_cnt_list, \"ck\": ck_list}\n",
    "    pk_df = pd.DataFrame(data=pk_dict, columns=['k', 'cnt', 'pk', 'cumul_cnt', 'ck'])\n",
    "    \n",
    "    return (pk_df)"
   ]
  },
  {
   "cell_type": "code",
   "execution_count": 3,
   "metadata": {},
   "outputs": [],
   "source": [
    "G = nx.watts_strogatz_graph(2000, 4, 0.5)"
   ]
  },
  {
   "cell_type": "code",
   "execution_count": 4,
   "metadata": {},
   "outputs": [],
   "source": [
    "SeqOfNums = [deg for node, deg in G.degree()]"
   ]
  },
  {
   "cell_type": "code",
   "execution_count": 5,
   "metadata": {},
   "outputs": [],
   "source": [
    "pk_df = CalculateDistr(SeqOfNums)"
   ]
  },
  {
   "cell_type": "code",
   "execution_count": 6,
   "metadata": {},
   "outputs": [
    {
     "data": {
      "text/html": [
       "<div>\n",
       "<style scoped>\n",
       "    .dataframe tbody tr th:only-of-type {\n",
       "        vertical-align: middle;\n",
       "    }\n",
       "\n",
       "    .dataframe tbody tr th {\n",
       "        vertical-align: top;\n",
       "    }\n",
       "\n",
       "    .dataframe thead th {\n",
       "        text-align: right;\n",
       "    }\n",
       "</style>\n",
       "<table border=\"1\" class=\"dataframe\">\n",
       "  <thead>\n",
       "    <tr style=\"text-align: right;\">\n",
       "      <th></th>\n",
       "      <th>k</th>\n",
       "      <th>cnt</th>\n",
       "      <th>pk</th>\n",
       "      <th>cumul_cnt</th>\n",
       "      <th>ck</th>\n",
       "    </tr>\n",
       "  </thead>\n",
       "  <tbody>\n",
       "    <tr>\n",
       "      <th>0</th>\n",
       "      <td>0</td>\n",
       "      <td>0</td>\n",
       "      <td>0.0000</td>\n",
       "      <td>2000</td>\n",
       "      <td>1.0000</td>\n",
       "    </tr>\n",
       "    <tr>\n",
       "      <th>1</th>\n",
       "      <td>1</td>\n",
       "      <td>0</td>\n",
       "      <td>0.0000</td>\n",
       "      <td>2000</td>\n",
       "      <td>1.0000</td>\n",
       "    </tr>\n",
       "    <tr>\n",
       "      <th>2</th>\n",
       "      <td>2</td>\n",
       "      <td>175</td>\n",
       "      <td>0.0875</td>\n",
       "      <td>2000</td>\n",
       "      <td>1.0000</td>\n",
       "    </tr>\n",
       "    <tr>\n",
       "      <th>3</th>\n",
       "      <td>3</td>\n",
       "      <td>554</td>\n",
       "      <td>0.2770</td>\n",
       "      <td>1825</td>\n",
       "      <td>0.9125</td>\n",
       "    </tr>\n",
       "    <tr>\n",
       "      <th>4</th>\n",
       "      <td>4</td>\n",
       "      <td>661</td>\n",
       "      <td>0.3305</td>\n",
       "      <td>1271</td>\n",
       "      <td>0.6355</td>\n",
       "    </tr>\n",
       "    <tr>\n",
       "      <th>5</th>\n",
       "      <td>5</td>\n",
       "      <td>394</td>\n",
       "      <td>0.1970</td>\n",
       "      <td>610</td>\n",
       "      <td>0.3050</td>\n",
       "    </tr>\n",
       "    <tr>\n",
       "      <th>6</th>\n",
       "      <td>6</td>\n",
       "      <td>150</td>\n",
       "      <td>0.0750</td>\n",
       "      <td>216</td>\n",
       "      <td>0.1080</td>\n",
       "    </tr>\n",
       "    <tr>\n",
       "      <th>7</th>\n",
       "      <td>7</td>\n",
       "      <td>55</td>\n",
       "      <td>0.0275</td>\n",
       "      <td>66</td>\n",
       "      <td>0.0330</td>\n",
       "    </tr>\n",
       "    <tr>\n",
       "      <th>8</th>\n",
       "      <td>8</td>\n",
       "      <td>10</td>\n",
       "      <td>0.0050</td>\n",
       "      <td>11</td>\n",
       "      <td>0.0055</td>\n",
       "    </tr>\n",
       "    <tr>\n",
       "      <th>9</th>\n",
       "      <td>9</td>\n",
       "      <td>1</td>\n",
       "      <td>0.0005</td>\n",
       "      <td>1</td>\n",
       "      <td>0.0005</td>\n",
       "    </tr>\n",
       "  </tbody>\n",
       "</table>\n",
       "</div>"
      ],
      "text/plain": [
       "   k  cnt      pk  cumul_cnt      ck\n",
       "0  0    0  0.0000       2000  1.0000\n",
       "1  1    0  0.0000       2000  1.0000\n",
       "2  2  175  0.0875       2000  1.0000\n",
       "3  3  554  0.2770       1825  0.9125\n",
       "4  4  661  0.3305       1271  0.6355\n",
       "5  5  394  0.1970        610  0.3050\n",
       "6  6  150  0.0750        216  0.1080\n",
       "7  7   55  0.0275         66  0.0330\n",
       "8  8   10  0.0050         11  0.0055\n",
       "9  9    1  0.0005          1  0.0005"
      ]
     },
     "execution_count": 6,
     "metadata": {},
     "output_type": "execute_result"
    }
   ],
   "source": [
    "pk_df"
   ]
  },
  {
   "cell_type": "code",
   "execution_count": 7,
   "metadata": {},
   "outputs": [
    {
     "data": {
      "image/png": "[encoded data removed]",
      "text/plain": [
       "<Figure size 432x288 with 2 Axes>"
      ]
     },
     "metadata": {},
     "output_type": "display_data"
    }
   ],
   "source": [
    "fig = plt.figure()\n",
    "ax1 = fig.add_axes([0, 0, 1, 1])\n",
    "ax2 = fig.add_axes([1.2, 0, 1, 1])\n",
    "\n",
    "ax1.plot(pk_df[\"k\"], pk_df[\"pk\"], \"C0x\")\n",
    "ax2.plot(pk_df[\"k\"], pk_df[\"ck\"], \"C1x\")\n",
    "\n",
    "\n",
    "for ax in [ax1, ax2]:\n",
    "    ax.set_xlabel(\"k\", fontsize=20)\n",
    "    ax.set_ylim(top=1.1)\n",
    "    ax.grid()\n",
    "\n",
    "ax1.set_ylabel(\"p(k)\", fontsize=20)\n",
    "ax1.set_title(\"Degree Distribution\", fontsize=20)\n",
    "\n",
    "ax2.set_ylabel(\"c(k)\", fontsize=20)\n",
    "ax2.set_title(\"Cumulative Degree Distribution\", fontsize=20)\n",
    "\n",
    "plt.show()"
   ]
  },
  {
   "cell_type": "code",
   "execution_count": null,
   "metadata": {},
   "outputs": [],
   "source": []
  }
 ],
 "metadata": {
  "kernelspec": {
   "display_name": "Python 3",
   "language": "python",
   "name": "python3"
  },
  "language_info": {
   "codemirror_mode": {
    "name": "ipython",
    "version": 3
   },
   "file_extension": ".py",
   "mimetype": "text/x-python",
   "name": "python",
   "nbconvert_exporter": "python",
   "pygments_lexer": "ipython3",
   "version": "3.6.8"
  }
 },
 "nbformat": 4,
 "nbformat_minor": 2
}
