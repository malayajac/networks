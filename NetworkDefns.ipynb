{
 "cells": [
  {
   "cell_type": "markdown",
   "metadata": {},
   "source": [
    "2019-July-01, Monday"
   ]
  },
  {
   "cell_type": "markdown",
   "metadata": {},
   "source": [
    "Adjacency matric of a directed network:\n",
    "<br>\n",
    "$\n",
    "A_{ij} = \n",
    "\\begin{cases}\n",
    "1, & \\text{if there is an edge from j to i}\\\\\n",
    "0, & \\text{otherwise}\n",
    "\\end{cases}\n",
    "$\n",
    "<br>\n",
    "according to \"Networks: An Introduction\" by M. E. J. Newman"
   ]
  },
  {
   "cell_type": "markdown",
   "metadata": {},
   "source": [
    "In-degree: $d_{i}^{in} = \\sum_{j=1}^{N} A_{ij}$\n",
    "<br>\n",
    "Out-degree: $d_{i}^{out} = \\sum_{j=1}^{N} A_{ji}$\n",
    "<br>\n",
    "from https://doi.org/10.1063/1.2148388"
   ]
  },
  {
   "cell_type": "code",
   "execution_count": 1,
   "metadata": {},
   "outputs": [],
   "source": [
    "import networkx as nx\n",
    "import matplotlib.pyplot as plt"
   ]
  },
  {
   "cell_type": "code",
   "execution_count": 2,
   "metadata": {},
   "outputs": [],
   "source": [
    "NodeList = [1, 2, 3, 4]\n",
    "EdgeList = [(1, 2), (2, 3), (3, 1), (1, 4)]"
   ]
  },
  {
   "cell_type": "code",
   "execution_count": 3,
   "metadata": {},
   "outputs": [],
   "source": [
    "G = nx.DiGraph()\n",
    "G.add_nodes_from(NodeList)\n",
    "G.add_edges_from(EdgeList)"
   ]
  },
  {
   "cell_type": "code",
   "execution_count": 4,
   "metadata": {},
   "outputs": [
    {
     "data": {
      "image/png": "[encoded data removed]",
      "text/plain": [
       "<Figure size 432x288 with 1 Axes>"
      ]
     },
     "metadata": {},
     "output_type": "display_data"
    }
   ],
   "source": [
    "nx.draw_networkx(G)\n",
    "plt.show()"
   ]
  },
  {
   "cell_type": "markdown",
   "metadata": {},
   "source": [
    "According to the above definition, the adj matrix of this directed network is:\n",
    "<br>\n",
    "$\n",
    "\\begin{bmatrix} \n",
    "0 & 0 & 1 & 0\\\\\n",
    "1 & 0 & 0 & 0\\\\\n",
    "0 & 1 & 0 & 0\\\\\n",
    "1 & 0 & 0 & 0\\\\\n",
    "\\end{bmatrix}\n",
    "$"
   ]
  },
  {
   "cell_type": "markdown",
   "metadata": {},
   "source": [
    "But,"
   ]
  },
  {
   "cell_type": "code",
   "execution_count": 5,
   "metadata": {},
   "outputs": [
    {
     "data": {
      "text/plain": [
       "array([[0., 1., 0., 1.],\n",
       "       [0., 0., 1., 0.],\n",
       "       [1., 0., 0., 0.],\n",
       "       [0., 0., 0., 0.]])"
      ]
     },
     "execution_count": 5,
     "metadata": {},
     "output_type": "execute_result"
    }
   ],
   "source": [
    "nx.to_numpy_array(G)"
   ]
  },
  {
   "cell_type": "markdown",
   "metadata": {},
   "source": [
    "Note that this is the transpose of Newman's definition."
   ]
  },
  {
   "cell_type": "markdown",
   "metadata": {},
   "source": [
    "But also note that in-degrees and out-degrees are correect:"
   ]
  },
  {
   "cell_type": "code",
   "execution_count": 6,
   "metadata": {},
   "outputs": [
    {
     "name": "stdout",
     "output_type": "stream",
     "text": [
      "node\tInDeg\tOutDeg\n",
      "1\t1\t2\n",
      "2\t1\t1\n",
      "3\t1\t1\n",
      "4\t1\t0\n"
     ]
    }
   ],
   "source": [
    "print (\"node\\tInDeg\\tOutDeg\")\n",
    "for node in G.nodes():\n",
    "    print (\"{}\\t{}\\t{}\".format(node, G.in_degree(node), G.out_degree(node)))"
   ]
  },
  {
   "cell_type": "markdown",
   "metadata": {},
   "source": [
    "I NEED TO KEEP THIS IN MIND WHEN MANIPULATING ADJ MATRIX FOR DIRECTED NETWORKS!!!"
   ]
  },
  {
   "cell_type": "markdown",
   "metadata": {},
   "source": [
    "---"
   ]
  },
  {
   "cell_type": "code",
   "execution_count": null,
   "metadata": {},
   "outputs": [],
   "source": []
  }
 ],
 "metadata": {
  "kernelspec": {
   "display_name": "Python 3",
   "language": "python",
   "name": "python3"
  },
  "language_info": {
   "codemirror_mode": {
    "name": "ipython",
    "version": 3
   },
   "file_extension": ".py",
   "mimetype": "text/x-python",
   "name": "python",
   "nbconvert_exporter": "python",
   "pygments_lexer": "ipython3",
   "version": "3.6.8"
  }
 },
 "nbformat": 4,
 "nbformat_minor": 2
}
