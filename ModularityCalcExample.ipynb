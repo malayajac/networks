{
 "cells": [
  {
   "cell_type": "code",
   "execution_count": 1,
   "metadata": {},
   "outputs": [],
   "source": [
    "import numpy as np\n",
    "import networkx as nx\n",
    "import matplotlib.pyplot as plt"
   ]
  },
  {
   "cell_type": "code",
   "execution_count": 2,
   "metadata": {},
   "outputs": [],
   "source": [
    "EdgeList = [(0, 1), (0, 2), (0, 9),\n",
    "            (1, 2),\n",
    "            (3, 4), (3, 5), (3, 9),\n",
    "            (4, 5),\n",
    "            (6, 7), (6, 8), (6, 9),\n",
    "            (7, 8)]"
   ]
  },
  {
   "cell_type": "code",
   "execution_count": 3,
   "metadata": {},
   "outputs": [],
   "source": [
    "N = 10 #number of nodes\n",
    "NodeList = range(N)"
   ]
  },
  {
   "cell_type": "code",
   "execution_count": 4,
   "metadata": {},
   "outputs": [],
   "source": [
    "G = nx.Graph()"
   ]
  },
  {
   "cell_type": "code",
   "execution_count": 5,
   "metadata": {},
   "outputs": [],
   "source": [
    "G.add_nodes_from(NodeList)\n",
    "G.add_edges_from(EdgeList)"
   ]
  },
  {
   "cell_type": "code",
   "execution_count": 6,
   "metadata": {},
   "outputs": [
    {
     "data": {
      "image/png": "[encoded data removed]",
      "text/plain": [
       "<Figure size 432x288 with 1 Axes>"
      ]
     },
     "metadata": {},
     "output_type": "display_data"
    }
   ],
   "source": [
    "nx.draw_networkx(G)\n",
    "plt.show()"
   ]
  },
  {
   "cell_type": "code",
   "execution_count": 7,
   "metadata": {
    "scrolled": true
   },
   "outputs": [],
   "source": [
    "A = nx.adjacency_matrix(G)"
   ]
  },
  {
   "cell_type": "code",
   "execution_count": 8,
   "metadata": {},
   "outputs": [],
   "source": [
    "M = G.number_of_edges()"
   ]
  },
  {
   "cell_type": "code",
   "execution_count": 9,
   "metadata": {},
   "outputs": [
    {
     "data": {
      "text/plain": [
       "12"
      ]
     },
     "execution_count": 9,
     "metadata": {},
     "output_type": "execute_result"
    }
   ],
   "source": [
    "M"
   ]
  },
  {
   "cell_type": "code",
   "execution_count": 10,
   "metadata": {},
   "outputs": [],
   "source": [
    "# Suppose we have the following communities:\n",
    "\n",
    "comm_a = {0, 1, 2, 9}\n",
    "comm_b = {3, 4, 5}\n",
    "comm_c = {6, 7, 8}\n",
    "\n",
    "comm_List = [comm_a, comm_b, comm_c]"
   ]
  },
  {
   "cell_type": "markdown",
   "metadata": {},
   "source": [
    "---"
   ]
  },
  {
   "cell_type": "markdown",
   "metadata": {},
   "source": [
    "Calculate modularity using my own function:"
   ]
  },
  {
   "cell_type": "code",
   "execution_count": 11,
   "metadata": {},
   "outputs": [],
   "source": [
    "def CommunityKronecker(comm_List, v, w):\n",
    "    #comm_List = list of all communities. THIS MUST BE A LIST OF SETS!\n",
    "    #v, w = nodes\n",
    "    #This function checks in nodes v and w are both in the same community.\n",
    "    \n",
    "    if type(comm_List)!=list:\n",
    "        return (\"Dude, the list of communities, ie comm_List, you gave to this function is NOT A LIST! CHECK!\")\n",
    "    else:\n",
    "        KronDelta = 0\n",
    "\n",
    "        for comm in comm_List:\n",
    "            if (v in comm) and (w in comm):\n",
    "                KronDelta += 1\n",
    "                #print (v, w, comm)\n",
    "\n",
    "        if KronDelta>1:\n",
    "            print (\"Error! Some node appears in 2 different communities! Check!\")\n",
    "        else:\n",
    "            return (KronDelta)"
   ]
  },
  {
   "cell_type": "code",
   "execution_count": 12,
   "metadata": {},
   "outputs": [],
   "source": [
    "Q = 0\n",
    "for v in NodeList:\n",
    "    kv = nx.degree(G, v)\n",
    "    for w in NodeList:\n",
    "        kw = nx.degree(G, w)\n",
    "        Q += ( A[v, w] - (kv*kw)/(2*M) ) * CommunityKronecker(comm_List, v, w)\n",
    "Q = Q/(2*M)"
   ]
  },
  {
   "cell_type": "code",
   "execution_count": 13,
   "metadata": {},
   "outputs": [
    {
     "name": "stdout",
     "output_type": "stream",
     "text": [
      "0.4895833333333334\n"
     ]
    }
   ],
   "source": [
    "print (Q)"
   ]
  },
  {
   "cell_type": "markdown",
   "metadata": {},
   "source": [
    "---"
   ]
  },
  {
   "cell_type": "markdown",
   "metadata": {},
   "source": [
    "Calculate modularity in-built networkx function for modularity matrix:"
   ]
  },
  {
   "cell_type": "code",
   "execution_count": 14,
   "metadata": {},
   "outputs": [],
   "source": [
    "B = nx.modularity_matrix(G)"
   ]
  },
  {
   "cell_type": "markdown",
   "metadata": {},
   "source": [
    "$\\bf{B}$ is the modularity matrix for a given network, and it is defined by:\n",
    "$$ B_{ij} = A_{ij} - \\frac{k_{i} k_{j}}{2M} $$\n",
    "\n",
    "Now, using this defn of $\\bf{B}$ along with $\\delta_{c_{v},c_{w}}$ (which we get from how we have guessed communities), we get the modularity, Q."
   ]
  },
  {
   "cell_type": "code",
   "execution_count": 15,
   "metadata": {},
   "outputs": [],
   "source": [
    "Q2 = 0\n",
    "for v in range(N):\n",
    "    for w in range(N):\n",
    "        Q2 += B[v, w] * CommunityKronecker(comm_List, v, w)\n",
    "Q2 = Q2/(2*M)"
   ]
  },
  {
   "cell_type": "code",
   "execution_count": 16,
   "metadata": {},
   "outputs": [
    {
     "name": "stdout",
     "output_type": "stream",
     "text": [
      "0.4895833333333334\n"
     ]
    }
   ],
   "source": [
    "print (Q2)"
   ]
  },
  {
   "cell_type": "code",
   "execution_count": null,
   "metadata": {},
   "outputs": [],
   "source": []
  }
 ],
 "metadata": {
  "kernelspec": {
   "display_name": "Python 3",
   "language": "python",
   "name": "python3"
  },
  "language_info": {
   "codemirror_mode": {
    "name": "ipython",
    "version": 3
   },
   "file_extension": ".py",
   "mimetype": "text/x-python",
   "name": "python",
   "nbconvert_exporter": "python",
   "pygments_lexer": "ipython3",
   "version": "3.6.8"
  }
 },
 "nbformat": 4,
 "nbformat_minor": 2
}
